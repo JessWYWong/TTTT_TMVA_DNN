{
 "cells": [
  {
   "cell_type": "markdown",
   "metadata": {},
   "source": [
    "## Import Pythonic Libraries\n",
    "This notebook should be run at [swan.cern.ch](swan.cern.ch).  The notebook parameters used are:\n",
    "- Python 3\n",
    "- Software stack: 97\n",
    "- Platform: CentOS 7 (gcc9)\n",
    "- Number of cores: 2 or 4\n",
    "- Memory: 8 or 10 GB\n",
    "\n",
    "Requires downloading `root` samples (within a directory) to the working directory hosting this notebook."
   ]
  },
  {
   "cell_type": "code",
   "execution_count": 11,
   "metadata": {},
   "outputs": [],
   "source": [
    "import os, sys\n",
    "import numpy as np\n",
    "from scipy import stats\n",
    "import ROOT\n",
    "import matplotlib.pyplot as plt\n",
    "import ipywidgets as widgets\n",
    "from ROOT import TMVA, TFile, TTree, TCut, TRandom3\n",
    "from ROOT import TCanvas, TGraph\n",
    "from ROOT import gSystem, gApplication, gROOT\n",
    "\n",
    "ROOT.ROOT.EnableImplicitMT()"
   ]
  },
  {
   "cell_type": "markdown",
   "metadata": {},
   "source": [
    "## Select the samples and variables to compare"
   ]
  },
  {
   "cell_type": "code",
   "execution_count": 2,
   "metadata": {},
   "outputs": [],
   "source": [
    "# get list of directories in working directory\n",
    "dirList = next(os.walk(os.getcwd()))[1]\n",
    "\n",
    "# root paths\n",
    "treeName = \"ljmet\""
   ]
  },
  {
   "cell_type": "code",
   "execution_count": 3,
   "metadata": {},
   "outputs": [
    {
     "name": "stdout",
     "output_type": "stream",
     "text": [
      "Choose the first sample directory for comparison:\n"
     ]
    },
    {
     "data": {
      "application/vnd.jupyter.widget-view+json": {
       "model_id": "7808e4b600b04e5abe0440d4a67af30c",
       "version_major": 2,
       "version_minor": 0
      },
      "text/plain": [
       "Dropdown(options=('.config', '.keras', '.local', '.pki', '.ssh', '.sys.v#.Array Example.ipynb', '.sys.v#.Centr…"
      ]
     },
     "metadata": {},
     "output_type": "display_data"
    }
   ],
   "source": [
    "print(\"Choose the first sample directory for comparison:\")\n",
    "sampleDirOne = widgets.Dropdown( options = dirList )\n",
    "sampleDirOne"
   ]
  },
  {
   "cell_type": "code",
   "execution_count": 4,
   "metadata": {},
   "outputs": [
    {
     "name": "stdout",
     "output_type": "stream",
     "text": [
      "Choose the sample from FWLJMET102X_1lep2017_Oct2019_4t_03202020_step2:\n"
     ]
    },
    {
     "data": {
      "application/vnd.jupyter.widget-view+json": {
       "model_id": "d0d3201620ea423c926ae4df353e9f1d",
       "version_major": 2,
       "version_minor": 0
      },
      "text/plain": [
       "Dropdown(options=('TTTT_TuneCP5_PSweights_13TeV-amcatnlo-pythia8_hadd.root', 'TTTo2L2Nu_TuneCP5_PSweights_13Te…"
      ]
     },
     "metadata": {},
     "output_type": "display_data"
    }
   ],
   "source": [
    "print(\"Choose the sample from {}:\".format( sampleDirOne.value ))\n",
    "sampleOne = widgets.Dropdown( options = os.listdir( sampleDirOne.value ) )\n",
    "sampleOne"
   ]
  },
  {
   "cell_type": "code",
   "execution_count": 5,
   "metadata": {},
   "outputs": [
    {
     "name": "stdout",
     "output_type": "stream",
     "text": [
      "Choose the second sample directory for comparison:\n"
     ]
    },
    {
     "data": {
      "application/vnd.jupyter.widget-view+json": {
       "model_id": "a90f959f4754472087abdfa8a4f2d320",
       "version_major": 2,
       "version_minor": 0
      },
      "text/plain": [
       "Dropdown(options=('.config', '.keras', '.local', '.pki', '.ssh', '.sys.v#.Array Example.ipynb', '.sys.v#.Centr…"
      ]
     },
     "metadata": {},
     "output_type": "display_data"
    }
   ],
   "source": [
    "print(\"Choose the second sample directory for comparison:\")\n",
    "sampleDirTwo = widgets.Dropdown( options = dirList )\n",
    "sampleDirTwo"
   ]
  },
  {
   "cell_type": "code",
   "execution_count": 6,
   "metadata": {},
   "outputs": [
    {
     "name": "stdout",
     "output_type": "stream",
     "text": [
      "Choose the sample from FWLJMET102X_1lep2018_Oct2019_4t_03302020_step2:\n"
     ]
    },
    {
     "data": {
      "application/vnd.jupyter.widget-view+json": {
       "model_id": "d135f9140d8c4b3d9367b41822b16538",
       "version_major": 2,
       "version_minor": 0
      },
      "text/plain": [
       "Dropdown(options=('TTTT_TuneCP5_13TeV-amcatnlo-pythia8_hadd.root',), value='TTTT_TuneCP5_13TeV-amcatnlo-pythia…"
      ]
     },
     "metadata": {},
     "output_type": "display_data"
    }
   ],
   "source": [
    "print(\"Choose the sample from {}:\".format( sampleDirTwo.value ))\n",
    "sampleTwo = widgets.Dropdown( options = os.listdir( sampleDirTwo.value ) )\n",
    "sampleTwo"
   ]
  },
  {
   "cell_type": "code",
   "execution_count": 7,
   "metadata": {},
   "outputs": [
    {
     "name": "stdout",
     "output_type": "stream",
     "text": [
      "382 out of 383 variables shared.\n",
      "Choose the variable to compare:\n"
     ]
    },
    {
     "data": {
      "application/vnd.jupyter.widget-view+json": {
       "model_id": "90547e7072f94f0b89d8b90c8b9348f3",
       "version_major": 2,
       "version_minor": 0
      },
      "text/plain": [
       "Dropdown(options=('BJetLeadPt_bSFup', 'genTtbarIdCategory_TTbarMassCalc', 'minDR_leadAK8otherAK8', 'minMleppBj…"
      ]
     },
     "metadata": {},
     "output_type": "display_data"
    }
   ],
   "source": [
    "rootFileOne = ROOT.TFile.Open( sampleDirOne.value + \"/\" + sampleOne.value )\n",
    "rootTreeOne = rootFileOne.Get( treeName )\n",
    "branchListOne = [ branch.GetName() for branch in rootTreeOne.GetListOfBranches() ]\n",
    "rootFileTwo = ROOT.TFile.Open( sampleDirTwo.value + \"/\" + sampleTwo.value )\n",
    "rootTreeTwo = rootFileTwo.Get( treeName )\n",
    "branchListTwo = [ branch.GetName() for branch in rootTreeTwo.GetListOfBranches() ]\n",
    "\n",
    "commonBranches = set(branchListOne).intersection(branchListTwo)\n",
    "print(\"{} out of {} variables shared.\".format(\n",
    "    len(commonBranches), len(branchListOne)\n",
    "))\n",
    "\n",
    "print(\"Choose the variable to compare:\")\n",
    "fileList = widgets.Dropdown( options = commonBranches )\n",
    "fileList"
   ]
  },
  {
   "cell_type": "code",
   "execution_count": 9,
   "metadata": {},
   "outputs": [],
   "source": [
    "# populate the branches\n",
    "branchOne = rootTreeOne.AsMatrix( [ str(fileList.value) ] )\n",
    "branchTwo = rootTreeTwo.AsMatrix( [ str(fileList.value) ] )"
   ]
  },
  {
   "cell_type": "markdown",
   "metadata": {},
   "source": [
    "## Plot the two distributions\n",
    "The (two sample) Kolmogorov-Smirnov test is used to evaluate if the two input distributions are sampled from the same parent population. Two metrics are provided: the Kolmogrov-Smirnov statistic ($D$) and the $p$-value.  $D$ represents a determinant which determines whether the null hypothesis of being similarly sampled is rejected,\n",
    "$$D_{n,m}>c(\\alpha)\\sqrt{\\frac{n+m}{n\\times m}}$$\n",
    "where $c(\\alpha)$ is given by,\n",
    "$$c(\\alpha)=\\sqrt{-\\ln(\\frac{\\alpha}{2})\\times \\frac{1}{2}}$$\n",
    "and $n$ and $m$ are the sizes of the respective distributions.\n",
    "\n",
    "The $p$-value is evaluated by whether it is above or below the set $\\alpha$.  That is, if $p>\\alpha$, then the null hypothesis is not rejected.  Thus, either $D$ or $p$ can be used in evaluating the similarity of the distributions."
   ]
  },
  {
   "cell_type": "code",
   "execution_count": 25,
   "metadata": {},
   "outputs": [
    {
     "data": {
      "image/png": "[encoded data removed]",
      "text/plain": [
       "<Figure size 792x432 with 1 Axes>"
      ]
     },
     "metadata": {
      "needs_background": "light"
     },
     "output_type": "display_data"
    }
   ],
   "source": [
    "# set uniform binning\n",
    "nBins = 30\n",
    "minBin = min(min(branchOne),min(branchTwo))\n",
    "maxBin = max(max(branchOne),max(branchTwo))\n",
    "bins = np.linspace(minBin,maxBin,nBins).reshape(nBins)\n",
    "\n",
    "# plot the histograms\n",
    "plt.rc(\"axes\", axisbelow = True)\n",
    "plt.close()\n",
    "plt.figure( figsize = (11, 6) )\n",
    "plt.title( str(fileList.value) )\n",
    "histOne, binsOne, _ = plt.hist(\n",
    "    branchOne,\n",
    "    label = sampleDirOne.value.split(\"_\")[1] + \"/\" + sampleOne.value.split(\"_TuneCP5\")[0],\n",
    "    histtype = \"stepfilled\",\n",
    "    linewidth = 2,\n",
    "    alpha = 0.9,\n",
    "    bins = bins\n",
    ")\n",
    "histTwo, binsTwo, _ = plt.hist(\n",
    "    branchTwo,\n",
    "    label = sampleDirTwo.value.split(\"_\")[1] + \"/\" + sampleTwo.value.split(\"_TuneCP5\")[0],\n",
    "    histtype = \"step\",\n",
    "    linewidth = 2,\n",
    "    color = \"k\",\n",
    "    alpha = 1.0,\n",
    "    bins = bins\n",
    ")\n",
    "\n",
    "D, pVal = stats.ks_2samp(histOne, histTwo)\n",
    "\n",
    "plt.annotate(\n",
    "    u\"$N_1=$ {}\".format( len( branchOne ) ),\n",
    "    xycoords = \"axes pixels\",\n",
    "    xy = (5,310)\n",
    ")\n",
    "plt.annotate(\n",
    "    u\"$N_2=$ {}\".format( len( branchTwo ) ),\n",
    "    xycoords = \"axes pixels\",\n",
    "    xy = (5,295)\n",
    ")\n",
    "plt.annotate(\n",
    "    u\"$D=$ {:.4f}\".format( D ),\n",
    "    xycoords = \"axes pixels\",\n",
    "    xy = (100,310)\n",
    ")\n",
    "plt.annotate(\n",
    "    u\"$p=$ {:.4f}\".format( pVal ),\n",
    "    xycoords = \"axes pixels\",\n",
    "    xy = (100, 295)\n",
    ")\n",
    "\n",
    "plt.xlabel( str(fileList.value) )\n",
    "plt.ylabel( \"Count\" )\n",
    "plt.ylim(0,1.2*max(max(histOne),(max(histTwo))))\n",
    "#plt.yscale( \"log\" )\n",
    "plt.legend( loc = \"best\" )\n",
    "plt.grid( which = \"major\", linestyle = \"--\" )\n",
    "plt.grid( which = \"minor\", linestyle = \":\")\n",
    "plt.minorticks_on()\n",
    "plt.show()"
   ]
  },
  {
   "cell_type": "code",
   "execution_count": null,
   "metadata": {},
   "outputs": [],
   "source": []
  }
 ],
 "metadata": {
  "kernelspec": {
   "display_name": "Python 3",
   "language": "python",
   "name": "python3"
  },
  "language_info": {
   "codemirror_mode": {
    "name": "ipython",
    "version": 3
   },
   "file_extension": ".py",
   "mimetype": "text/x-python",
   "name": "python",
   "nbconvert_exporter": "python",
   "pygments_lexer": "ipython3",
   "version": "3.7.6"
  }
 },
 "nbformat": 4,
 "nbformat_minor": 4
}
