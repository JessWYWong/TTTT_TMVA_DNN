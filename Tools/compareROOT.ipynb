{
 "cells": [
  {
   "cell_type": "markdown",
   "metadata": {},
   "source": [
    "## Import Pythonic Libraries\n",
    "This notebook should be run at [swan.cern.ch](swan.cern.ch).  The notebook parameters used are:\n",
    "- Python 3\n",
    "- Software stack: 97\n",
    "- Platform: CentOS 7 (gcc9)\n",
    "- Number of cores: 2 or 4\n",
    "- Memory: 8 or 10 GB\n",
    "\n",
    "Requires downloading `root` samples (within a directory) to the working directory hosting this notebook."
   ]
  },
  {
   "cell_type": "code",
   "execution_count": 1,
   "metadata": {},
   "outputs": [
    {
     "name": "stdout",
     "output_type": "stream",
     "text": [
      "Welcome to JupyROOT 6.20/02\n"
     ]
    }
   ],
   "source": [
    "import os, sys\n",
    "import time\n",
    "import numpy as np\n",
    "from scipy import stats\n",
    "from sklearn.metrics import auc\n",
    "import ROOT\n",
    "import matplotlib.pyplot as plt\n",
    "import ipywidgets as widgets\n",
    "from ROOT import TMVA, TFile, TTree, TCut, TRandom3\n",
    "from ROOT import TCanvas, TGraph\n",
    "from ROOT import gSystem, gApplication, gROOT\n",
    "\n",
    "ROOT.ROOT.EnableImplicitMT()"
   ]
  },
  {
   "cell_type": "markdown",
   "metadata": {},
   "source": [
    "## Select the samples and variables to compare"
   ]
  },
  {
   "cell_type": "code",
   "execution_count": 2,
   "metadata": {},
   "outputs": [],
   "source": [
    "# get list of directories in working directory\n",
    "dirList = next(os.walk(os.getcwd()))[1]\n",
    "\n",
    "# save path\n",
    "defaultSaveDir = \"Variable Distributions \"\n",
    "\n",
    "# root paths\n",
    "treeName = \"ljmet\""
   ]
  },
  {
   "cell_type": "code",
   "execution_count": 3,
   "metadata": {},
   "outputs": [
    {
     "name": "stdout",
     "output_type": "stream",
     "text": [
      "Choose the first sample directory for comparison:\n"
     ]
    },
    {
     "data": {
      "application/vnd.jupyter.widget-view+json": {
       "model_id": "32ef9c4fc0e845f89715209b59eb766a",
       "version_major": 2,
       "version_minor": 0
      },
      "text/plain": [
       "Dropdown(options=('.git', '.sys.v#.InputVariables.ipynb', '.sys.v#.compareROOT.ipynb', 'BRUX', 'FWLJMET102X_1l…"
      ]
     },
     "metadata": {},
     "output_type": "display_data"
    }
   ],
   "source": [
    "print(\"Choose the first sample directory for comparison:\")\n",
    "sampleDirOne = widgets.Dropdown( options = dirList )\n",
    "sampleDirOne"
   ]
  },
  {
   "cell_type": "code",
   "execution_count": 4,
   "metadata": {},
   "outputs": [
    {
     "name": "stdout",
     "output_type": "stream",
     "text": [
      "Choose the samples (ctrl + mouse) from FWLJMET102X_1lep2017_Oct2019_4t_05072020_step2:\n"
     ]
    },
    {
     "data": {
      "application/vnd.jupyter.widget-view+json": {
       "model_id": "150c1565a31845d9848adeed59609a6e",
       "version_major": 2,
       "version_minor": 0
      },
      "text/plain": [
       "SelectMultiple(options=('TTTT_TuneCP5_PSweights_13TeV-amcatnlo-pythia8_hadd.root', 'TTTo2L2Nu_TuneCP5_PSweight…"
      ]
     },
     "metadata": {},
     "output_type": "display_data"
    }
   ],
   "source": [
    "print(\"Choose the samples (ctrl + mouse) from {}:\".format( sampleDirOne.value ))\n",
    "sampleOne = widgets.SelectMultiple( options = os.listdir( sampleDirOne.value ) )\n",
    "sampleOne"
   ]
  },
  {
   "cell_type": "code",
   "execution_count": 5,
   "metadata": {},
   "outputs": [
    {
     "name": "stdout",
     "output_type": "stream",
     "text": [
      "Choose the second sample directory for comparison:\n"
     ]
    },
    {
     "data": {
      "application/vnd.jupyter.widget-view+json": {
       "model_id": "780bc97a556646eba609d4ee6d0cdc7b",
       "version_major": 2,
       "version_minor": 0
      },
      "text/plain": [
       "Dropdown(options=('.git', '.sys.v#.InputVariables.ipynb', '.sys.v#.compareROOT.ipynb', 'BRUX', 'FWLJMET102X_1l…"
      ]
     },
     "metadata": {},
     "output_type": "display_data"
    }
   ],
   "source": [
    "print(\"Choose the second sample directory for comparison:\")\n",
    "sampleDirTwo = widgets.Dropdown( options = dirList )\n",
    "sampleDirTwo"
   ]
  },
  {
   "cell_type": "code",
   "execution_count": 6,
   "metadata": {},
   "outputs": [
    {
     "name": "stdout",
     "output_type": "stream",
     "text": [
      "Choose the samples (ctrl + mouse) from FWLJMET102X_1lep2018_Oct2019_4t_05072020_step2:\n"
     ]
    },
    {
     "data": {
      "application/vnd.jupyter.widget-view+json": {
       "model_id": "97054efcbd1f4bedac146beaea4890c4",
       "version_major": 2,
       "version_minor": 0
      },
      "text/plain": [
       "SelectMultiple(options=('TTTT_TuneCP5_13TeV-amcatnlo-pythia8_hadd.root', 'TTTo2L2Nu_TuneCP5_13TeV-powheg-pythi…"
      ]
     },
     "metadata": {},
     "output_type": "display_data"
    }
   ],
   "source": [
    "print(\"Choose the samples (ctrl + mouse) from {}:\".format( sampleDirTwo.value ))\n",
    "sampleTwo = widgets.SelectMultiple( options = os.listdir( sampleDirTwo.value ) )\n",
    "sampleTwo"
   ]
  },
  {
   "cell_type": "code",
   "execution_count": 7,
   "metadata": {},
   "outputs": [
    {
     "name": "stdout",
     "output_type": "stream",
     "text": [
      "401 variables shared.\n"
     ]
    }
   ],
   "source": [
    "rootFileOne = {}\n",
    "rootTreeOne = {}\n",
    "branchListOne = {}\n",
    "rootFileTwo = {}\n",
    "rootTreeTwo = {}\n",
    "branchListTwo = {}\n",
    "\n",
    "commonBranches = []\n",
    "\n",
    "for file in sampleOne.value:\n",
    "    rootFileOne[file] = ROOT.TFile.Open( sampleDirOne.value + \"/\" + file )\n",
    "    rootTreeOne[file] = rootFileOne[file].Get( treeName )\n",
    "    branchListOne[file] = [ branch.GetName() for branch in rootTreeOne[file].GetListOfBranches() ]\n",
    "\n",
    "for file in sampleTwo.value:\n",
    "    rootFileTwo[file] = ROOT.TFile.Open( sampleDirTwo.value + \"/\" + file )\n",
    "    rootTreeTwo[file] = rootFileTwo[file].Get( treeName )\n",
    "    branchListTwo[file] = [ branch.GetName() for branch in rootTreeTwo[file].GetListOfBranches() ]\n",
    "\n",
    "for fileOne in branchListOne:\n",
    "    for itr, fileTwo in enumerate(branchListTwo):\n",
    "        commonBranch = set(branchListOne[fileOne]).intersection(branchListTwo[fileTwo])\n",
    "        if itr == 0:\n",
    "            commonBranches = commonBranch\n",
    "        else:\n",
    "            commonBranches = commonBranches.intersection(commonBranch)\n",
    "        \n",
    "    \n",
    "print(\"{} variables shared.\".format(\n",
    "    len(commonBranches)\n",
    "))"
   ]
  },
  {
   "cell_type": "markdown",
   "metadata": {},
   "source": [
    "### Combine the root files"
   ]
  },
  {
   "cell_type": "code",
   "execution_count": 8,
   "metadata": {},
   "outputs": [
    {
     "name": "stderr",
     "output_type": "stream",
     "text": [
      "/cvmfs/sft.cern.ch/lcg/views/LCG_97python3/x86_64-centos7-gcc8-opt/lib/ROOT.py:352: FutureWarning: Instantiating a function template with parentheses ( f(type1, ..., typeN) ) is deprecated and will not be supported in a future version of ROOT. Instead, use square brackets: f[type1, ..., typeN]\n",
      "  flat_matrix_ptr = _root.ROOT.Internal.RDF.GetVectorAddress(dtype)(flat_matrix)\n"
     ]
    },
    {
     "name": "stdout",
     "output_type": "stream",
     "text": [
      "Finished loading first sample(s) in 3.07 seconds\n",
      "Finished loading second sample(s) in 5.60 seconds\n"
     ]
    }
   ],
   "source": [
    "# get relevant cuts from each root file\n",
    "cutOne = {}\n",
    "cutTwo = {}\n",
    "\n",
    "startTime = time.time()\n",
    "\n",
    "for file in sampleOne.value:\n",
    "    cutOne[file] = np.asarray(rootTreeOne[file].AsMatrix( [\n",
    "        \"leptonPt_MultiLepCalc\",\n",
    "        \"isElectron\",\n",
    "        \"isMuon\",\n",
    "        \"corr_met_MultiLepCalc\",\n",
    "        \"MT_lepMet\",\n",
    "        \"minDR_lepJet\",\n",
    "        \"AK4HT\",\n",
    "        \"DataPastTriggerX\",\n",
    "        \"MCPastTriggerX\",\n",
    "        \"NJetsCSVwithSF_MultiLepCalc\",\n",
    "        \"NJets_JetSubCalc\",\n",
    "        \"triggerXSF\",\n",
    "        \"pileupWeight\",\n",
    "        \"lepIdSF\",\n",
    "        \"EGammaGsfSF\",\n",
    "        \"isoSF\",\n",
    "        \"L1NonPrefiringProb_CommonCalc\",\n",
    "        \"xsecEff\",\n",
    "        \"MCWeight_MultiLepCalc\"\n",
    "    ] ))\n",
    "    \n",
    "print(\"Finished loading first sample(s) in {:.2f} seconds\".format(time.time()-startTime))\n",
    "\n",
    "for file in sampleTwo.value:\n",
    "    cutTwo[file] = np.asarray(rootTreeTwo[file].AsMatrix( [\n",
    "        \"leptonPt_MultiLepCalc\",\n",
    "        \"isElectron\",\n",
    "        \"isMuon\",\n",
    "        \"corr_met_MultiLepCalc\",\n",
    "        \"MT_lepMet\",\n",
    "        \"minDR_lepJet\",\n",
    "        \"AK4HT\",\n",
    "        \"DataPastTriggerX\",\n",
    "        \"MCPastTriggerX\",\n",
    "        \"NJetsCSVwithSF_MultiLepCalc\",\n",
    "        \"NJets_JetSubCalc\",\n",
    "        \"triggerXSF\",\n",
    "        \"pileupWeight\",\n",
    "        \"lepIdSF\",\n",
    "        \"EGammaGsfSF\",\n",
    "        \"isoSF\",\n",
    "        \"L1NonPrefiringProb_CommonCalc\",\n",
    "        \"xsecEff\",\n",
    "        \"MCWeight_MultiLepCalc\"\n",
    "    ] ))\n",
    "    \n",
    "print(\"Finished loading second sample(s) in {:.2f} seconds\".format(time.time()-startTime))"
   ]
  },
  {
   "cell_type": "code",
   "execution_count": 9,
   "metadata": {},
   "outputs": [],
   "source": [
    "cutOneComb = np.concatenate([cutOne[file] for file in sampleOne.value])\n",
    "cutTwoComb = np.concatenate([cutTwo[file] for file in sampleTwo.value])\n",
    "\n",
    "cutOneSort = np.asarray(cutOneComb[cutOneComb[:,0].argsort()])\n",
    "cutTwoSort = np.asarray(cutTwoComb[cutTwoComb[:,0].argsort()])"
   ]
  },
  {
   "cell_type": "code",
   "execution_count": 10,
   "metadata": {},
   "outputs": [],
   "source": [
    "cutOneSort = cutOneComb[np.lexsort((cutOneComb[:,3],cutOneComb[:,0]))]\n",
    "cutTwoSort = cutTwoComb[np.lexsort((cutTwoComb[:,3],cutTwoComb[:,0]))]"
   ]
  },
  {
   "cell_type": "markdown",
   "metadata": {},
   "source": [
    "##### Apply selection to the events and evaluate weights"
   ]
  },
  {
   "cell_type": "code",
   "execution_count": 11,
   "metadata": {},
   "outputs": [
    {
     "name": "stdout",
     "output_type": "stream",
     "text": [
      "101397 events out of 434191 passed for sample(s) one...\n",
      "110389 events out of 462585 passed for sample(s) two...\n",
      "Finished after 9.02 seconds\n"
     ]
    }
   ],
   "source": [
    "# apply cuts\n",
    "leptonPt = 50.\n",
    "isElectron = 1\n",
    "isMuon = 1\n",
    "corr_met = 60.\n",
    "MT_lepMet = 60.\n",
    "minDR_lepJet = 0.4\n",
    "AK4HT = 510.\n",
    "DataPastTriggerX = 1\n",
    "MCPastTriggerX = 1\n",
    "bJets= 2\n",
    "nJets = 6\n",
    "\n",
    "cutMaskOne = np.zeros(np.shape(cutOneSort)[0])\n",
    "cutMaskTwo = np.zeros(np.shape(cutTwoSort)[0])\n",
    "weightOne = np.full(np.shape(cutOneSort)[0],1.0)\n",
    "weightTwo = np.full(np.shape(cutTwoSort)[0],1.0)\n",
    "startTime = time.time()\n",
    "for i in range(np.shape(cutOneComb)[0]):\n",
    "    if ( ( cutOneSort[i,0] > leptonPt and cutOneSort[i,1] == isElectron ) or ( cutOneSort[i,0] > leptonPt and cutOneSort[i,2] == isMuon ) ):\n",
    "        if ( cutOneSort[i,3] > corr_met and cutOneSort[i,4] > MT_lepMet and cutOneSort[i,5] > minDR_lepJet and cutOneSort[i,6] > AK4HT ):\n",
    "            if ( int(cutOneSort[i,7]) == DataPastTriggerX and int(cutOneSort[i,8]) == MCPastTriggerX ):\n",
    "                if ( int(cutOneSort[i,9]) >= bJets and int(cutOneSort[i,10]) >= nJets ):\n",
    "                    cutMaskOne[i] = 1\n",
    "    weightOne[i] = np.prod(cutOneSort[i,11:]) / abs(cutOneSort[i,18])\n",
    "            \n",
    "print(\"{} events out of {} passed for sample(s) one...\".format(int(np.sum(cutMaskOne)),np.shape(cutOneComb)[0]))\n",
    "for i in range(np.shape(cutTwoComb)[0]):\n",
    "    if ( ( cutTwoSort[i,0] > leptonPt and cutTwoSort[i,1] == isElectron ) or ( cutTwoSort[i,0] > leptonPt and cutTwoSort[i,2] == isMuon ) ):\n",
    "        if ( cutTwoSort[i,3] > corr_met and cutTwoSort[i,4] > MT_lepMet and float(cutTwoSort[i,5]) > minDR_lepJet and cutTwoSort[i,6] > AK4HT ):\n",
    "            if ( int(cutTwoSort[i,7]) == DataPastTriggerX and int(cutTwoSort[i,8]) == MCPastTriggerX ):\n",
    "                if ( int(cutTwoSort[i,9]) >= bJets and int(cutTwoSort[i,10]) >= nJets ):\n",
    "                    cutMaskTwo[i] = 1\n",
    "    weightTwo[i] = np.prod(cutTwoSort[i,11:]) / abs(cutTwoSort[i,18])\n",
    "                    \n",
    "print(\"{} events out of {} passed for sample(s) two...\".format(int(np.sum(cutMaskTwo)),np.shape(cutTwoComb)[0]))\n",
    "print(\"Finished after {:.2f} seconds\".format(time.time()-startTime))"
   ]
  },
  {
   "cell_type": "markdown",
   "metadata": {},
   "source": [
    "##### Visualize the weights"
   ]
  },
  {
   "cell_type": "code",
   "execution_count": 12,
   "metadata": {},
   "outputs": [
    {
     "data": {
      "image/png": "[encoded data removed]",
      "text/plain": [
       "<Figure size 432x288 with 1 Axes>"
      ]
     },
     "metadata": {
      "needs_background": "light"
     },
     "output_type": "display_data"
    }
   ],
   "source": [
    "bins = np.linspace(min(min(weightOne),min(weightTwo)),max(max(weightOne),max(weightTwo)),50)\n",
    "#bins = np.linspace(-5,5,50)\n",
    "plt.close()\n",
    "plt.figure()\n",
    "plt.hist(\n",
    "    weightOne, bins=bins, label=sampleDirOne.value.split(\"_\")[1],\n",
    "    histtype=\"stepfilled\",alpha=0.8\n",
    ")\n",
    "plt.hist(\n",
    "    weightTwo, bins=bins, label=sampleDirTwo.value.split(\"_\")[1],\n",
    "    histtype=\"step\",color=\"black\"\n",
    ")\n",
    "plt.annotate(\n",
    "    u\"$N_1=$ {}\".format( len( weightOne ) ),\n",
    "    xycoords = \"axes pixels\",\n",
    "    xy = (5,205)\n",
    ")\n",
    "plt.annotate(\n",
    "    u\"$N_2=$ {}\".format( len( weightTwo ) ),\n",
    "    xycoords = \"axes pixels\",\n",
    "    xy = (5,190)\n",
    ")\n",
    "plt.ylabel(\"Count\")\n",
    "plt.xlabel(\"Weight\")\n",
    "plt.legend(loc=\"best\")\n",
    "plt.yscale(\"log\")\n",
    "plt.show()"
   ]
  },
  {
   "cell_type": "markdown",
   "metadata": {},
   "source": [
    "### Apply the selection mask to the desired input variable"
   ]
  },
  {
   "cell_type": "code",
   "execution_count": 13,
   "metadata": {},
   "outputs": [
    {
     "name": "stdout",
     "output_type": "stream",
     "text": [
      "Choose the variable to compare:\n"
     ]
    },
    {
     "data": {
      "application/vnd.jupyter.widget-view+json": {
       "model_id": "44f74f01a6094ab08e11adfd35cec6f4",
       "version_major": 2,
       "version_minor": 0
      },
      "text/plain": [
       "Dropdown(options=('AK4HT', 'AK4HTpMETpLepPt', 'AK4JetBTag_MultiLepCalc_PtOrdered', 'AK4JetDeepCSVb_MultiLepCal…"
      ]
     },
     "metadata": {},
     "output_type": "display_data"
    }
   ],
   "source": [
    "print(\"Choose the variable to compare:\")\n",
    "fileList = widgets.Dropdown( options = sorted(commonBranches) )\n",
    "fileList"
   ]
  },
  {
   "cell_type": "code",
   "execution_count": 39,
   "metadata": {},
   "outputs": [],
   "source": [
    "# define some plotting parameters\n",
    "minBin = 0\n",
    "maxBin = 1.0\n",
    "nBins = 51\n",
    "binWidth = float( maxBin - minBin ) / float(nBins)\n",
    "if len(sampleOne.value) < 2:\n",
    "    sampleType = \"Signal\"\n",
    "else:\n",
    "    sampleType = \"Background\"\n",
    "\n",
    "histBins = np.linspace(minBin, maxBin, nBins)"
   ]
  },
  {
   "cell_type": "code",
   "execution_count": 40,
   "metadata": {},
   "outputs": [
    {
     "name": "stdout",
     "output_type": "stream",
     "text": [
      "Finished applying selection to input variables in 3.72 seconds...\n"
     ]
    }
   ],
   "source": [
    "# populate the branches\n",
    "branchOne = {}\n",
    "branchTwo = {}\n",
    "\n",
    "startTime = time.time()\n",
    "# want to sort these by a similar variable (i.e. leptonpt_multilepcalc) because root doesn't load in the data in the correct order so necessary to sort\n",
    "for file in sampleOne.value:\n",
    "    branchOne[file] = np.asarray(rootTreeOne[file].AsMatrix( [ \"leptonPt_MultiLepCalc\", \"corr_met_MultiLepCalc\", str(fileList.value) ] ))\n",
    "for file in sampleTwo.value:\n",
    "    branchTwo[file] = np.asarray(rootTreeTwo[file].AsMatrix( [ \"leptonPt_MultiLepCalc\", \"corr_met_MultiLepCalc\", str(fileList.value) ] ))\n",
    "\n",
    "branchOneComb = np.concatenate([branchOne[file] for file in sampleOne.value])\n",
    "branchTwoComb = np.concatenate([branchTwo[file] for file in sampleTwo.value])\n",
    "\n",
    "branchOneSort = branchOneComb[np.lexsort((branchOneComb[:,1],branchOneComb[:,0]))][:,2]\n",
    "branchTwoSort = branchTwoComb[np.lexsort((branchTwoComb[:,1],branchTwoComb[:,0]))][:,2]\n",
    "\n",
    "branchCutOne = branchOneSort[cutMaskOne.astype(bool)]\n",
    "branchCutTwo = branchTwoSort[cutMaskTwo.astype(bool)]\n",
    "\n",
    "weightCutOne = weightOne[cutMaskOne.astype(bool)]\n",
    "weightCutTwo = weightTwo[cutMaskTwo.astype(bool)]\n",
    "\n",
    "print(\"Finished applying selection to input variables in {:.2f} seconds...\".format(time.time()-startTime))"
   ]
  },
  {
   "cell_type": "markdown",
   "metadata": {},
   "source": [
    "### Populate histograms with weighting"
   ]
  },
  {
   "cell_type": "markdown",
   "metadata": {},
   "source": [
    "Pre-selection histogram"
   ]
  },
  {
   "cell_type": "code",
   "execution_count": null,
   "metadata": {},
   "outputs": [],
   "source": [
    "histWgtOne = np.zeros(nBins)\n",
    "histWgtTwo = np.zeros(nBins)\n",
    "startTime = time.time()\n",
    "\n",
    "for i, event in enumerate(branchOneSort):\n",
    "    for binIndx in range(nBins):\n",
    "        if event >= binIndx*binWidth and event < (1+binIndx)*binWidth:\n",
    "            histWgtOne[binIndx] += weightOne[i]\n",
    "            continue\n",
    "for i, event in enumerate(branchTwoSort):\n",
    "    for binIndx in range(nBins):\n",
    "        if event >= binIndx*binWidth and event < (1+binIndx)*binWidth:\n",
    "            histWgtTwo[binIndx] += weightTwo[i]\n",
    "            continue\n",
    "            \n",
    "print(\"Finished binning in {:.2f} seconds\".format(time.time()-startTime))"
   ]
  },
  {
   "cell_type": "markdown",
   "metadata": {},
   "source": [
    "Post-selection histogram"
   ]
  },
  {
   "cell_type": "code",
   "execution_count": null,
   "metadata": {},
   "outputs": [],
   "source": [
    "histWgtCutOne = np.zeros(nBins)\n",
    "histWgtCutTwo = np.zeros(nBins)\n",
    "startTime = time.time()\n",
    "\n",
    "for i, event in enumerate(branchCutOne):\n",
    "    for binIndx in range(nBins):\n",
    "        if event >= binIndx*binWidth and event < (1+binIndx)*binWidth:\n",
    "            histWgtCutOne[binIndx] += weightCutOne[i]\n",
    "            continue\n",
    "for i, event in enumerate(branchCutTwo):\n",
    "    for binIndx in range(nBins):\n",
    "        if event >= binIndx*binWidth and event < (1+binIndx)*binWidth:\n",
    "            histWgtCutTwo[binIndx] += weightCutTwo[i]\n",
    "            continue\n",
    "            \n",
    "print(\"Finished binning in {:.2f} seconds\".format(time.time()-startTime))"
   ]
  },
  {
   "cell_type": "markdown",
   "metadata": {},
   "source": [
    "## Plot the two distributions\n",
    "The (two sample) Kolmogorov-Smirnov test is used to evaluate if the two input distributions are sampled from the same parent population. Two metrics are provided: the Kolmogrov-Smirnov statistic ($D$) and the $p$-value.  $D$ represents a determinant which determines whether the null hypothesis of being similarly sampled is rejected,\n",
    "$$D_{n,m}>c(\\alpha)\\sqrt{\\frac{n+m}{n\\times m}}$$\n",
    "where $c(\\alpha)$ is given by,\n",
    "$$c(\\alpha)=\\sqrt{-\\ln(\\frac{\\alpha}{2})\\times \\frac{1}{2}}$$\n",
    "and $n$ and $m$ are the sizes of the respective distributions.\n",
    "\n",
    "The $p$-value is evaluated by whether it is above or below the set $\\alpha$.  That is, if $p>\\alpha$, then the null hypothesis is not rejected.  Thus, either $D$ or $p$ can be used in evaluating the similarity of the distributions."
   ]
  },
  {
   "cell_type": "markdown",
   "metadata": {},
   "source": [
    "### Plot the pre-selection distributions"
   ]
  },
  {
   "cell_type": "code",
   "execution_count": null,
   "metadata": {},
   "outputs": [],
   "source": [
    "# set uniform binning\n",
    "bins = np.linspace(minBin,maxBin,nBins).reshape(nBins)\n",
    "\n",
    "# plot the histograms\n",
    "plt.rc(\"axes\", axisbelow = True)\n",
    "plt.close()\n",
    "plt.figure( figsize = (11, 6) )\n",
    "plt.title( sampleType + \" \" + str(fileList.value) )\n",
    "histOne, binsOne, _ = plt.hist(\n",
    "    branchOneSort,\n",
    "    label = sampleDirOne.value.split(\"_\")[1],\n",
    "    histtype = \"stepfilled\",\n",
    "    linewidth = 2,\n",
    "    alpha = 0.9,\n",
    "    bins = bins,\n",
    "    density = False\n",
    ")\n",
    "histTwo, binsTwo, _ = plt.hist(\n",
    "    branchTwoSort,\n",
    "    label = sampleDirTwo.value.split(\"_\")[1],\n",
    "    histtype = \"step\",\n",
    "    linewidth = 2,\n",
    "    color = \"k\",\n",
    "    alpha = 1.0,\n",
    "    bins = bins,\n",
    "    density = False\n",
    ")\n",
    "\n",
    "D, pVal = stats.ks_2samp(histOne, histTwo)\n",
    "\n",
    "plt.annotate(\n",
    "    u\"$N_1=$ {}\".format( len( branchOneSort ) ),\n",
    "    xycoords = \"axes pixels\",\n",
    "    xy = (5,310)\n",
    ")\n",
    "plt.annotate(\n",
    "    u\"$N_2=$ {}\".format( len( branchTwoSort ) ),\n",
    "    xycoords = \"axes pixels\",\n",
    "    xy = (5,295)\n",
    ")\n",
    "plt.annotate(\n",
    "    u\"$D=$ {:.4f}\".format( D ),\n",
    "    xycoords = \"axes pixels\",\n",
    "    xy = (100,310)\n",
    ")\n",
    "plt.annotate(\n",
    "    u\"$p=$ {:.4f}\".format( pVal ),\n",
    "    xycoords = \"axes pixels\",\n",
    "    xy = (100, 295)\n",
    ")\n",
    "\n",
    "plt.xlabel( str(fileList.value) )\n",
    "plt.ylabel( \"Count\" )\n",
    "plt.ylim(0,1.2*max(max(histOne),max(histTwo)))\n",
    "plt.xlim(minBin,maxBin)\n",
    "#plt.yscale( \"log\" )\n",
    "plt.legend( loc = \"best\" )\n",
    "plt.grid( which = \"major\", linestyle = \"--\" )\n",
    "plt.grid( which = \"minor\", linestyle = \":\")\n",
    "plt.minorticks_on()\n",
    "plt.show()"
   ]
  },
  {
   "cell_type": "code",
   "execution_count": null,
   "metadata": {},
   "outputs": [],
   "source": [
    "normOne = auc(histBins,histWgtOne)\n",
    "normTwo = auc(histBins,histWgtOne)\n",
    "\n",
    "plt.rc(\"axes\", axisbelow = True)\n",
    "plt.close()\n",
    "plt.figure( figsize = (11,6) )\n",
    "plt.title( sampleType + \" \" + str(fileList.value) + \" with weights\")\n",
    "plt.plot(\n",
    "    histBins,histWgtOne/normOne,\n",
    "    linestyle=\"none\",marker=\"o\",\n",
    "    alpha=0.8,\n",
    "    label=sampleDirTwo.value.split(\"_\")[1]\n",
    ")\n",
    "plt.plot(\n",
    "    histBins,histWgtTwo/normTwo,\n",
    "    linestyle=\"none\",marker=\"o\",fillstyle=\"none\",markeredgecolor=\"black\",\n",
    "    label=sampleDirOne.value.split(\"_\")[1]\n",
    ")\n",
    "\n",
    "D, pVal = stats.ks_2samp(histWgtOne, histWgtTwo)\n",
    "\n",
    "plt.annotate(\n",
    "    u\"$N_1=$ {:.2f}\".format( sum(histWgtOne) ),\n",
    "    xycoords = \"axes pixels\",\n",
    "    xy = (5,310)\n",
    ")\n",
    "plt.annotate(\n",
    "    u\"$N_2=$ {:.2f}\".format( sum(histWgtTwo) ),\n",
    "    xycoords = \"axes pixels\",\n",
    "    xy = (5,295)\n",
    ")\n",
    "plt.annotate(\n",
    "    u\"$D=$ {:.4f}\".format( D ),\n",
    "    xycoords = \"axes pixels\",\n",
    "    xy = (100,310)\n",
    ")\n",
    "plt.annotate(\n",
    "    u\"$p=$ {:.4f}\".format( pVal ),\n",
    "    xycoords = \"axes pixels\",\n",
    "    xy = (100, 295)\n",
    ")\n",
    "plt.xlabel(fileList.value)\n",
    "plt.ylabel(\"Normalized Count\")\n",
    "plt.xlim(minBin,maxBin)\n",
    "plt.ylim(0,1.2*max(max(histWgtOne/normOne),max(histWgtTwo/normTwo)))\n",
    "plt.legend( loc = \"best\" )\n",
    "plt.grid( which = \"major\", linestyle = \"--\" )\n",
    "plt.grid( which = \"minor\", linestyle = \":\")\n",
    "plt.minorticks_on()\n",
    "plt.show()"
   ]
  },
  {
   "cell_type": "markdown",
   "metadata": {},
   "source": [
    "### Plot the distributions for the cut histograms"
   ]
  },
  {
   "cell_type": "code",
   "execution_count": null,
   "metadata": {},
   "outputs": [],
   "source": [
    "# set uniform binning\n",
    "bins = np.linspace(minBin,maxBin,nBins).reshape(nBins)\n",
    "\n",
    "# plot the histograms\n",
    "plt.rc(\"axes\", axisbelow = True)\n",
    "plt.close()\n",
    "plt.figure( figsize = (11, 6) )\n",
    "plt.title(r\"{} {} after selection $(n_j\\geq${},$n_b\\geq${})\".format(sampleType,fileList.value,str(nJets),str(bJets)))\n",
    "histOne, binsOne, _ = plt.hist(\n",
    "    branchCutOne,\n",
    "    label = sampleDirOne.value.split(\"_\")[1],\n",
    "    histtype = \"stepfilled\",\n",
    "    linewidth = 2,\n",
    "    alpha = 0.9,\n",
    "    bins = bins,\n",
    "    density = False\n",
    ")\n",
    "histTwo, binsTwo, _ = plt.hist(\n",
    "    branchCutTwo,\n",
    "    label = sampleDirTwo.value.split(\"_\")[1],\n",
    "    histtype = \"step\",\n",
    "    linewidth = 2,\n",
    "    color = \"k\",\n",
    "    alpha = 1.0,\n",
    "    bins = bins,\n",
    "    density = False\n",
    ")\n",
    "\n",
    "D, pVal = stats.ks_2samp(histOne, histTwo)\n",
    "\n",
    "plt.annotate(\n",
    "    u\"$N_1=$ {}\".format( len( branchCutOne ) ),\n",
    "    xycoords = \"axes pixels\",\n",
    "    xy = (5,310)\n",
    ")\n",
    "plt.annotate(\n",
    "    u\"$N_2=$ {}\".format( len( branchCutTwo ) ),\n",
    "    xycoords = \"axes pixels\",\n",
    "    xy = (5,295)\n",
    ")\n",
    "plt.annotate(\n",
    "    u\"$D=$ {:.4f}\".format( D ),\n",
    "    xycoords = \"axes pixels\",\n",
    "    xy = (100,310)\n",
    ")\n",
    "plt.annotate(\n",
    "    u\"$p=$ {:.4f}\".format( pVal ),\n",
    "    xycoords = \"axes pixels\",\n",
    "    xy = (100, 295)\n",
    ")\n",
    "\n",
    "plt.xlabel( str(fileList.value) )\n",
    "plt.ylabel( \"Count\" )\n",
    "plt.xlim(minBin,maxBin)\n",
    "plt.ylim(0,1.2*max(max(histOne),max(histTwo)))\n",
    "#plt.yscale( \"log\" )\n",
    "plt.legend( loc = \"best\" )\n",
    "plt.grid( which = \"major\", linestyle = \"--\" )\n",
    "plt.grid( which = \"minor\", linestyle = \":\")\n",
    "plt.minorticks_on()\n",
    "plt.show()"
   ]
  },
  {
   "cell_type": "code",
   "execution_count": null,
   "metadata": {},
   "outputs": [],
   "source": [
    "normCutOne = auc(histBins,histWgtCutOne)\n",
    "normCutTwo = auc(histBins,histWgtCutTwo)\n",
    "\n",
    "plt.rc(\"axes\", axisbelow = True)\n",
    "plt.close()\n",
    "plt.figure( figsize = (11,6) )\n",
    "plt.title(r\"{} {} with weights after selection $(n_j\\geq${},$n_b\\geq${})\".format(sampleType,fileList.value,str(nJets),str(bJets)))\n",
    "plt.plot(\n",
    "    histBins,histWgtCutOne/normCutOne,\n",
    "    linestyle=\"none\",marker=\"o\",\n",
    "    alpha=0.8,\n",
    "    \n",
    "    label=sampleDirTwo.value.split(\"_\")[4]+\"/\"+sampleDirTwo.value.split(\"_\")[1]\n",
    ")\n",
    "plt.plot(\n",
    "    histBins,histWgtCutTwo/normCutTwo,\n",
    "    linestyle=\"none\",marker=\"o\",fillstyle=\"none\",markeredgecolor=\"black\",\n",
    "    #fill = False,\n",
    "    label=sampleDirOne.value.split(\"_\")[4]+\"/\"+sampleDirOne.value.split(\"_\")[1]\n",
    ")\n",
    "\n",
    "D, pVal = stats.ks_2samp(histWgtCutOne, histWgtCutTwo)\n",
    "\n",
    "plt.annotate(\n",
    "    u\"$N_1=$ {:.2f}\".format( sum(histWgtCutOne) ),\n",
    "    xycoords = \"axes pixels\",\n",
    "    xy = (5,310)\n",
    ")\n",
    "plt.annotate(\n",
    "    u\"$N_2=$ {:.2f}\".format( sum(histWgtCutTwo) ),\n",
    "    xycoords = \"axes pixels\",\n",
    "    xy = (5,295)\n",
    ")\n",
    "plt.annotate(\n",
    "    u\"$D=$ {:.4f}\".format( D ),\n",
    "    xycoords = \"axes pixels\",\n",
    "    xy = (100,310)\n",
    ")\n",
    "plt.annotate(\n",
    "    u\"$p=$ {:.4f}\".format( pVal ),\n",
    "    xycoords = \"axes pixels\",\n",
    "    xy = (100, 295)\n",
    ")\n",
    "plt.xlabel(str(fileList.value))\n",
    "plt.ylabel(\"Normalized Count\")\n",
    "\n",
    "plt.xlim(minBin,maxBin)\n",
    "plt.ylim(0,1.2*max(max(histWgtCutOne/normCutOne),max(histWgtCutTwo/normCutTwo)))\n",
    "plt.legend( loc = \"best\" )\n",
    "plt.grid( which = \"major\", linestyle = \"--\" )\n",
    "plt.grid( which = \"minor\", linestyle = \":\")\n",
    "plt.minorticks_on()\n",
    "plt.savefig(\"{}{}j/{} {}({}j).png\".format(defaultSaveDir,str(nJets),sampleType,str(fileList.value),str(nJets)))\n",
    "plt.show()"
   ]
  }
 ],
 "metadata": {
  "kernelspec": {
   "display_name": "Python 3",
   "language": "python",
   "name": "python3"
  },
  "language_info": {
   "codemirror_mode": {
    "name": "ipython",
    "version": 3
   },
   "file_extension": ".py",
   "mimetype": "text/x-python",
   "name": "python",
   "nbconvert_exporter": "python",
   "pygments_lexer": "ipython3",
   "version": "3.7.6"
  }
 },
 "nbformat": 4,
 "nbformat_minor": 4
}
